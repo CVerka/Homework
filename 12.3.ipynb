{
  "nbformat": 4,
  "nbformat_minor": 0,
  "metadata": {
    "colab": {
      "provenance": [],
      "authorship_tag": "ABX9TyM9Hn63WXQ9rMR4YhDrkjfq",
      "include_colab_link": true
    },
    "kernelspec": {
      "name": "python3",
      "display_name": "Python 3"
    },
    "language_info": {
      "name": "python"
    }
  },
  "cells": [
    {
      "cell_type": "markdown",
      "metadata": {
        "id": "view-in-github",
        "colab_type": "text"
      },
      "source": [
        "<a href=\"https://colab.research.google.com/github/CVerka/Homework/blob/main/12.3.ipynb\" target=\"_parent\"><img src=\"https://colab.research.google.com/assets/colab-badge.svg\" alt=\"Open In Colab\"/></a>"
      ]
    },
    {
      "cell_type": "code",
      "source": [
        "#import libraries\n",
        "import nltk\n",
        "import pandas as pd\n",
        "from textblob import TextBlob\n",
        "#news article\n",
        "target_url ='https://www.cbsnews.com/news/hurricane-helene-videos-flooding-damage-rescue-efforts-florida/'\n",
        "response = requests.get(target_url)\n",
        "data = response.text"
      ],
      "metadata": {
        "id": "GGh_0foXUzea"
      },
      "execution_count": 20,
      "outputs": []
    },
    {
      "cell_type": "code",
      "source": [
        "#blob\n",
        "blob = TextBlob(data)\n",
        "#display sentiments\n",
        "print(blob.sentiment.polarity)\n",
        "print(blob.sentiment.subjectivity)\n",
        "for sentence in blob.sentences:\n",
        "    print(sentence.sentiment)\n",
        ""
      ],
      "metadata": {
        "colab": {
          "base_uri": "https://localhost:8080/"
        },
        "collapsed": true,
        "id": "e3yrwARPU9xJ",
        "outputId": "0c53ab5e-2e29-48ac-89d4-afd08348de8a"
      },
      "execution_count": 21,
      "outputs": [
        {
          "output_type": "stream",
          "name": "stdout",
          "text": [
            "-0.1296963315145128\n",
            "0.6323591478136938\n",
            "Sentiment(polarity=0.05000000000000002, subjectivity=0.8999999999999999)\n",
            "Sentiment(polarity=-0.3333333333333333, subjectivity=0.3333333333333333)\n",
            "Sentiment(polarity=-0.3333333333333333, subjectivity=0.7999999999999999)\n",
            "Sentiment(polarity=-0.5, subjectivity=0.6)\n",
            "Sentiment(polarity=-0.75, subjectivity=1.0)\n",
            "Sentiment(polarity=0.13636363636363635, subjectivity=0.45454545454545453)\n",
            "Sentiment(polarity=0.0909090909090909, subjectivity=0.30303030303030304)\n",
            "Sentiment(polarity=0.13636363636363635, subjectivity=0.45454545454545453)\n",
            "Sentiment(polarity=0.0, subjectivity=0.2)\n",
            "Sentiment(polarity=0.0, subjectivity=0.0)\n",
            "Sentiment(polarity=-0.4964335664335664, subjectivity=0.7688111888111888)\n",
            "Sentiment(polarity=0.6, subjectivity=0.95)\n",
            "Sentiment(polarity=-0.10000000000000002, subjectivity=0.31666666666666665)\n",
            "Sentiment(polarity=-0.6, subjectivity=0.9)\n",
            "Sentiment(polarity=0.10119047619047619, subjectivity=0.294047619047619)\n",
            "Sentiment(polarity=0.4333333333333333, subjectivity=0.7333333333333333)\n",
            "Sentiment(polarity=0.03599206349206349, subjectivity=0.46996031746031736)\n",
            "Sentiment(polarity=-0.15000000000000002, subjectivity=0.3)\n",
            "Sentiment(polarity=-0.1, subjectivity=0.1)\n",
            "Sentiment(polarity=0.0, subjectivity=0.0)\n",
            "Sentiment(polarity=-0.25, subjectivity=0.875)\n",
            "Sentiment(polarity=0.3, subjectivity=1.0)\n",
            "Sentiment(polarity=-0.4670138888888889, subjectivity=0.7680555555555556)\n",
            "Sentiment(polarity=0.0, subjectivity=0.0)\n",
            "Sentiment(polarity=0.0, subjectivity=0.0)\n",
            "Sentiment(polarity=0.0, subjectivity=0.0)\n",
            "Sentiment(polarity=0.0, subjectivity=0.0)\n",
            "Sentiment(polarity=0.3, subjectivity=0.9333333333333332)\n",
            "Sentiment(polarity=0.0, subjectivity=0.0)\n",
            "Sentiment(polarity=0.0, subjectivity=0.0)\n",
            "Sentiment(polarity=-0.02271756021756025, subjectivity=0.6423076923076922)\n",
            "Sentiment(polarity=0.13675568181818176, subjectivity=0.5261136363636363)\n",
            "Sentiment(polarity=0.6, subjectivity=0.95)\n",
            "Sentiment(polarity=-0.07500000000000001, subjectivity=0.2375)\n",
            "Sentiment(polarity=-0.6, subjectivity=0.9)\n",
            "Sentiment(polarity=0.0, subjectivity=1.0)\n",
            "Sentiment(polarity=0.21428571428571427, subjectivity=0.42857142857142855)\n",
            "Sentiment(polarity=-0.07896825396825397, subjectivity=0.5041005291005292)\n",
            "Sentiment(polarity=0.4333333333333333, subjectivity=0.7333333333333333)\n",
            "Sentiment(polarity=0.05199404761904762, subjectivity=0.3024702380952381)\n",
            "Sentiment(polarity=0.21428571428571427, subjectivity=0.42857142857142855)\n",
            "Sentiment(polarity=-0.1, subjectivity=0.25)\n",
            "Sentiment(polarity=-0.10000000000000002, subjectivity=0.19999999999999998)\n",
            "Sentiment(polarity=0.0, subjectivity=0.0)\n",
            "Sentiment(polarity=0.0, subjectivity=0.3333333333333333)\n",
            "Sentiment(polarity=-0.05, subjectivity=0.05)\n",
            "Sentiment(polarity=0.0, subjectivity=0.0)\n",
            "Sentiment(polarity=0.625, subjectivity=0.5)\n",
            "Sentiment(polarity=0.0, subjectivity=0.0)\n",
            "Sentiment(polarity=-0.010101010101010102, subjectivity=0.20707070707070707)\n",
            "Sentiment(polarity=-0.2083333333333334, subjectivity=0.5750000000000001)\n",
            "Sentiment(polarity=0.0, subjectivity=0.0)\n",
            "Sentiment(polarity=-0.2863529159519723, subjectivity=0.7580617495711836)\n"
          ]
        }
      ]
    }
  ]
}