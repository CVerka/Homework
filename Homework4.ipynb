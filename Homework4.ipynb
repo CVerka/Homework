{
  "nbformat": 4,
  "nbformat_minor": 0,
  "metadata": {
    "colab": {
      "provenance": [],
      "authorship_tag": "ABX9TyMtN1972mo8DRMDdlFdnxeL",
      "include_colab_link": true
    },
    "kernelspec": {
      "name": "python3",
      "display_name": "Python 3"
    },
    "language_info": {
      "name": "python"
    }
  },
  "cells": [
    {
      "cell_type": "markdown",
      "metadata": {
        "id": "view-in-github",
        "colab_type": "text"
      },
      "source": [
        "<a href=\"https://colab.research.google.com/github/CVerka/Homework/blob/main/Homework4.ipynb\" target=\"_parent\"><img src=\"https://colab.research.google.com/assets/colab-badge.svg\" alt=\"Open In Colab\"/></a>"
      ]
    },
    {
      "cell_type": "code",
      "execution_count": 4,
      "metadata": {
        "id": "A-9yaBpIm9Fb"
      },
      "outputs": [],
      "source": [
        "#import libraries\n",
        "import numpy as np\n",
        "import pandas as pd\n",
        "import seaborn as sns\n",
        "from sklearn.datasets import load_breast_cancer\n",
        "from sklearn.model_selection import train_test_split\n",
        "from sklearn.neighbors import KNeighborsClassifier\n",
        "from sklearn.metrics import confusion_matrix\n",
        "from sklearn.metrics import classification_report\n",
        "from sklearn.model_selection import KFold\n",
        "from sklearn.model_selection import cross_val_score\n",
        "from sklearn.naive_bayes import GaussianNB\n",
        "from sklearn.svm import SVC\n",
        "from sklearn.linear_model import LogisticRegression\n",
        "#initialize variables\n",
        "breast_Cancer = load_breast_cancer()\n",
        "nb = GaussianNB()"
      ]
    },
    {
      "cell_type": "code",
      "source": [
        "#checking target size\n",
        "print(breast_Cancer.target[::100])\n",
        "print(breast_Cancer.target.shape)\n",
        "print(breast_Cancer.data.shape)"
      ],
      "metadata": {
        "colab": {
          "base_uri": "https://localhost:8080/"
        },
        "id": "jARPmZNjm_br",
        "outputId": "d786af52-2045-4f86-b6b0-7680c111d3d7"
      },
      "execution_count": 5,
      "outputs": [
        {
          "output_type": "stream",
          "name": "stdout",
          "text": [
            "[0 0 1 0 0 1]\n",
            "(569,)\n",
            "(569, 30)\n"
          ]
        }
      ]
    },
    {
      "cell_type": "code",
      "source": [
        "#splitting data\n",
        "X_train, X_test, y_train, y_test = train_test_split(breast_Cancer.data, breast_Cancer.target, random_state=11)\n",
        "print(X_train.shape)\n",
        "print(X_test.shape)"
      ],
      "metadata": {
        "colab": {
          "base_uri": "https://localhost:8080/"
        },
        "id": "j82qTpINnA_-",
        "outputId": "534210ba-691d-4bba-8fa3-a585f5bdd271"
      },
      "execution_count": 6,
      "outputs": [
        {
          "output_type": "stream",
          "name": "stdout",
          "text": [
            "(426, 30)\n",
            "(143, 30)\n"
          ]
        }
      ]
    },
    {
      "cell_type": "code",
      "source": [
        "#train model\n",
        "nb.fit(X_train, y_train)\n",
        "#prediticions\n",
        "predicted = nb.predict(X=X_test)\n",
        "expected = y_test\n",
        "print(f\"Predicted:{predicted}\\nExpected:{expected}\")\n",
        "#locate incorrect preditcions\n",
        "wrong = [(p, e) for (p, e) in zip(predicted, expected) if p != e]\n",
        "print(f\"Wrong:{wrong}\")\n",
        "print(f'Accurately predicted: {nb.score(X_test, y_test):.2%}')"
      ],
      "metadata": {
        "colab": {
          "base_uri": "https://localhost:8080/"
        },
        "id": "TuFh98BBnCiX",
        "outputId": "89d0b4bf-a456-4a63-e039-057055be2288"
      },
      "execution_count": 7,
      "outputs": [
        {
          "output_type": "stream",
          "name": "stdout",
          "text": [
            "Predicted:[0 0 0 0 0 1 0 1 1 1 1 1 1 1 1 1 1 1 1 0 0 1 1 1 1 1 1 1 1 1 1 1 1 1 1 1 1\n",
            " 1 1 1 1 0 1 1 1 1 0 1 0 0 1 1 0 1 1 1 0 1 1 1 0 0 1 1 0 1 1 1 1 0 1 1 1 0\n",
            " 1 0 1 1 1 1 1 1 0 1 0 1 0 0 1 1 0 0 1 1 0 1 1 1 1 1 0 1 1 1 0 0 0 1 1 1 1\n",
            " 0 1 0 0 1 1 0 1 0 0 1 0 1 0 1 1 1 0 1 1 1 1 1 0 0 0 1 0 1 0 1 1]\n",
            "Expected:[0 0 0 0 0 1 0 1 1 1 1 0 1 1 1 1 0 1 1 0 0 1 1 1 1 1 1 1 1 1 1 1 1 1 1 1 1\n",
            " 1 1 1 1 0 1 1 1 1 0 1 0 0 1 1 0 1 1 1 0 1 1 1 0 0 1 1 0 1 1 1 1 1 0 1 1 0\n",
            " 1 0 0 1 1 1 1 1 0 1 0 1 0 0 1 1 0 0 1 1 0 1 1 1 1 0 0 1 0 1 0 0 0 1 1 1 1\n",
            " 0 1 0 0 1 1 0 1 0 0 1 0 1 0 1 1 1 0 1 1 1 1 1 0 0 0 1 0 1 0 1 1]\n",
            "Wrong:[(1, 0), (1, 0), (0, 1), (1, 0), (1, 0), (1, 0), (1, 0)]\n",
            "Accurately predicted: 95.10%\n"
          ]
        }
      ]
    },
    {
      "cell_type": "code",
      "source": [
        "#confusion matrix\n",
        "confusion = confusion_matrix(y_true=expected, y_pred=predicted)\n",
        "print(confusion)\n",
        "#clasification report\n",
        "names = [str(breast_Cancer)for breast_Cancer in breast_Cancer.target_names]\n",
        "print(classification_report(expected, predicted, target_names=names))"
      ],
      "metadata": {
        "colab": {
          "base_uri": "https://localhost:8080/"
        },
        "id": "K4yirAbInErA",
        "outputId": "81a4a88d-334b-48f1-a30f-99c024b511f7"
      },
      "execution_count": 8,
      "outputs": [
        {
          "output_type": "stream",
          "name": "stdout",
          "text": [
            "[[44  6]\n",
            " [ 1 92]]\n",
            "              precision    recall  f1-score   support\n",
            "\n",
            "   malignant       0.98      0.88      0.93        50\n",
            "      benign       0.94      0.99      0.96        93\n",
            "\n",
            "    accuracy                           0.95       143\n",
            "   macro avg       0.96      0.93      0.94       143\n",
            "weighted avg       0.95      0.95      0.95       143\n",
            "\n"
          ]
        }
      ]
    },
    {
      "cell_type": "code",
      "source": [
        "#confustion matrix visuals\n",
        "confusion_df = pd.DataFrame(confusion, index=range(2), columns=range(2))\n",
        "axes = sns.heatmap(confusion_df, annot=True, cmap='nipy_spectral_r')"
      ],
      "metadata": {
        "colab": {
          "base_uri": "https://localhost:8080/",
          "height": 430
        },
        "id": "llWYCZPLnHSw",
        "outputId": "ea42767a-8669-439a-ea3c-1d45965cfa81"
      },
      "execution_count": 9,
      "outputs": [
        {
          "output_type": "display_data",
          "data": {
            "text/plain": [
              "<Figure size 640x480 with 2 Axes>"
            ],
            "image/png": "[encoded data removed]"
          },
          "metadata": {}
        }
      ]
    },
    {
      "cell_type": "code",
      "source": [
        "#Kfold cross validation\n",
        "kfold = KFold(n_splits=10, random_state=11, shuffle=True)\n",
        "scores = cross_val_score(estimator=nb, X=breast_Cancer.data,\n",
        "          y=breast_Cancer.target, cv=kfold)\n",
        "print(f'Scores:{scores}')\n",
        "print(f'Mean:{scores.mean():.2%}')\n",
        "print(f'Standard deviation:{scores.std():.2%}')"
      ],
      "metadata": {
        "colab": {
          "base_uri": "https://localhost:8080/"
        },
        "id": "odiF92WunI4V",
        "outputId": "54ee9c03-7973-4eb3-ee82-0ee623aece3d"
      },
      "execution_count": 10,
      "outputs": [
        {
          "output_type": "stream",
          "name": "stdout",
          "text": [
            "Scores:[0.96491228 0.9122807  0.94736842 0.89473684 0.96491228 0.94736842\n",
            " 0.96491228 0.89473684 0.96491228 0.92857143]\n",
            "Mean:93.85%\n",
            "Standard deviation:2.75%\n"
          ]
        }
      ]
    },
    {
      "cell_type": "code",
      "source": [
        "#testing multiple models\n",
        "estimators = {'GaussianNB': nb,\n",
        "    'KNeighborsClassifier': KNeighborsClassifier(),\n",
        "    'LogisticRegression': LogisticRegression(solver='lbfgs', multi_class='ovr', max_iter=10000),\n",
        "    'SVC': SVC(gamma='scale')}\n",
        "for estimator_name, estimator_object in estimators.items():\n",
        "    kfold = KFold(n_splits=10, random_state=11, shuffle=True)\n",
        "    scores = cross_val_score(estimator = estimator_object, X=breast_Cancer.data, y=breast_Cancer.target, cv=kfold)\n",
        "    print(f'{estimator_name:>20}: \\nMean: {scores.mean():.2%}\\nStandard deviation: {scores.std():.2%}\\n')"
      ],
      "metadata": {
        "colab": {
          "base_uri": "https://localhost:8080/"
        },
        "id": "aRsd0KrmnKpZ",
        "outputId": "004de78e-dd8c-4b39-b328-108c121728ba"
      },
      "execution_count": 11,
      "outputs": [
        {
          "output_type": "stream",
          "name": "stdout",
          "text": [
            "          GaussianNB: \n",
            "Mean: 93.85%\n",
            "Standard deviation: 2.75%\n",
            "\n",
            "KNeighborsClassifier: \n",
            "Mean: 92.79%\n",
            "Standard deviation: 2.01%\n",
            "\n",
            "  LogisticRegression: \n",
            "Mean: 95.08%\n",
            "Standard deviation: 3.02%\n",
            "\n",
            "                 SVC: \n",
            "Mean: 91.92%\n",
            "Standard deviation: 3.52%\n",
            "\n"
          ]
        }
      ]
    }
  ]
}